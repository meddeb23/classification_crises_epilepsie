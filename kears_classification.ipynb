{
  "nbformat": 4,
  "nbformat_minor": 0,
  "metadata": {
    "colab": {
      "name": "kears_classification.ipynb",
      "provenance": [],
      "collapsed_sections": [],
      "authorship_tag": "ABX9TyMWh7X6Uz38NlIs+Q7n4/rN",
      "include_colab_link": true
    },
    "kernelspec": {
      "name": "python3",
      "display_name": "Python 3"
    },
    "language_info": {
      "name": "python"
    }
  },
  "cells": [
    {
      "cell_type": "markdown",
      "metadata": {
        "id": "view-in-github",
        "colab_type": "text"
      },
      "source": [
        "<a href=\"https://colab.research.google.com/github/meddeb23/classification_crises_epilepsie/blob/main/kears_classification.ipynb\" target=\"_parent\"><img src=\"https://colab.research.google.com/assets/colab-badge.svg\" alt=\"Open In Colab\"/></a>"
      ]
    },
    {
      "cell_type": "code",
      "execution_count": 1,
      "metadata": {
        "colab": {
          "base_uri": "https://localhost:8080/"
        },
        "id": "-BM9x-kknOmO",
        "outputId": "7ed794ca-d7f8-4016-c0d2-3d863860a38f"
      },
      "outputs": [
        {
          "output_type": "stream",
          "name": "stdout",
          "text": [
            "2.8.0\n",
            "1.21.5\n"
          ]
        }
      ],
      "source": [
        "import tensorflow\n",
        "from tensorflow.keras import backend as k\n",
        "from tensorflow.keras.models import Sequential\n",
        "from tensorflow.keras.layers import Dense, Dropout,Conv1D, MaxPooling1D,Flatten,BatchNormalization\n",
        "from sklearn.model_selection import train_test_split\n",
        "import numpy\n",
        "\n",
        "from tensorflow.keras.callbacks import ModelCheckpoint, LearningRateScheduler\n",
        "\n",
        "\n",
        "import tensorflow as tf\n",
        "print(tf.__version__)\n",
        "\n",
        "import numpy as np\n",
        "print(np.__version__)\n",
        "\n",
        "numpy.random.seed(2)\n",
        "import pandas as pd"
      ]
    },
    {
      "cell_type": "code",
      "source": [
        "config = tensorflow.compat.v1.ConfigProto()\n",
        "sess = tensorflow.compat.v1.Session(config=config)"
      ],
      "metadata": {
        "id": "gDEbfudJneHl"
      },
      "execution_count": 2,
      "outputs": []
    },
    {
      "cell_type": "code",
      "metadata": {
        "colab": {
          "base_uri": "https://localhost:8080/"
        },
        "id": "bfwTiXMuXDva",
        "outputId": "31041640-ee96-4377-b679-9ec0b9171515"
      },
      "source": [
        "dataset_e1= pd.read_csv(\"./stand_norm_e1.txt\",delimiter=\" \",header=None)\n",
        "dataset_e1=numpy.array(dataset_e1,float)\n",
        "\n",
        "X_e1 = dataset_e1[:,:8]\n",
        "#m=np.max(X_e1)\n",
        "print(X_e1.shape)\n",
        "dataset_e2= pd.read_csv(\"./stand_norm_e2.txt\",delimiter=\" \",header=None)\n",
        "dataset_e2=numpy.array(dataset_e2,float)\n",
        "\n",
        "X_e2 = dataset_e2[:,:8]\n",
        "#n=np.max(X_e2)\n",
        "#X_e2=X_e2/n\n",
        "print(X_e2.shape)\n",
        "x_train_test=np.zeros((X_e1.shape[0],X_e1.shape[1],2))\n",
        "x_train_test[:,:,0]=X_e1\n",
        "x_train_test[:,:,1]=X_e2\n",
        "print(x_train_test.shape)\n",
        "#print(x_test.shape)\n",
        "dataset_output= pd.read_csv(\"./y2_e1.txt\",delimiter=\" \",header=None)\n",
        "dataset_output=numpy.array(dataset_output,float)\n",
        "dataset_output_new= dataset_output.reshape(dataset_output.shape[0], )"
      ],
      "execution_count": 6,
      "outputs": [
        {
          "output_type": "stream",
          "name": "stdout",
          "text": [
            "(13762, 8)\n",
            "(13762, 8)\n",
            "(13762, 8, 2)\n"
          ]
        }
      ]
    },
    {
      "cell_type": "code",
      "source": [
        "from sklearn.model_selection import train_test_split\n",
        "x_train, x_test, y_train, y_test = train_test_split(x_train_test, dataset_output_new, test_size=0.15, random_state=42)"
      ],
      "metadata": {
        "id": "-UixZGSToHpf"
      },
      "execution_count": 7,
      "outputs": []
    },
    {
      "cell_type": "code",
      "source": [
        "x_train_new=x_train\n",
        "x_test_new=x_test"
      ],
      "metadata": {
        "id": "mKEw9QzmoJvn"
      },
      "execution_count": 8,
      "outputs": []
    },
    {
      "cell_type": "code",
      "metadata": {
        "colab": {
          "base_uri": "https://localhost:8080/"
        },
        "id": "6xvAiyJEYjYB",
        "outputId": "c5c18042-b645-4a30-e749-3153df53c281"
      },
      "source": [
        "print(x_train_new.shape)\n",
        "print(y_train.shape)\n",
        "\n",
        "Y_train_new = tensorflow.keras.utils.to_categorical( y_train)\n",
        "Y_test_new = tensorflow.keras.utils.to_categorical(y_test)\n",
        "print(Y_train_new.shape)"
      ],
      "execution_count": 9,
      "outputs": [
        {
          "output_type": "stream",
          "name": "stdout",
          "text": [
            "(11697, 8, 2)\n",
            "(11697,)\n",
            "(11697, 3)\n"
          ]
        }
      ]
    },
    {
      "cell_type": "code",
      "source": [
        "print (x_train_new.shape)\n",
        "x_train_new=x_train_new.reshape(x_train_new.shape[0],  x_train_new.shape[1], 2)\n",
        "x_test_new = x_test_new.reshape(x_test_new.shape[0], x_test_new.shape[1],2 )\n",
        "print (x_train_new.shape)"
      ],
      "metadata": {
        "colab": {
          "base_uri": "https://localhost:8080/"
        },
        "id": "S4-AOfA3oJk3",
        "outputId": "b67a602a-630f-4ee1-ec4d-cbca233e4191"
      },
      "execution_count": 10,
      "outputs": [
        {
          "output_type": "stream",
          "name": "stdout",
          "text": [
            "(11697, 8, 2)\n",
            "(11697, 8, 2)\n"
          ]
        }
      ]
    },
    {
      "cell_type": "code",
      "source": [
        "print(x_train_new[50])"
      ],
      "metadata": {
        "colab": {
          "base_uri": "https://localhost:8080/"
        },
        "id": "wz9uOySktBth",
        "outputId": "ae9b0c06-c06a-4277-aa2a-e7c2eb1d6414"
      },
      "execution_count": 12,
      "outputs": [
        {
          "output_type": "stream",
          "name": "stdout",
          "text": [
            "[[606.096047 279.596588]\n",
            " [  6.725553   5.081766]\n",
            " [ 13.935761  14.926257]\n",
            " [ 55.067419  17.357456]\n",
            " [173.842822  15.367078]\n",
            " [146.524492 196.86403 ]\n",
            " [  0.898929   0.898929]\n",
            " [  0.670072   1.078618]]\n"
          ]
        }
      ]
    },
    {
      "cell_type": "code",
      "source": [
        "model = Sequential()\n",
        "model.add(Conv1D(32, kernel_size=3,\n",
        "                 activation='relu',data_format=\"channels_last\",padding='same',\n",
        "                 input_shape=(8,2)))\n",
        "model.add(BatchNormalization())\n",
        "model.add(Conv1D(64, 3, activation='relu',padding='same'))\n",
        "model.add(BatchNormalization())\n",
        "model.add(MaxPooling1D(pool_size=2,strides=None))\n",
        "model.add(Dropout(0.3))#0.1\n",
        "model.add(Conv1D(512, 3, activation='relu',padding='same'))\n",
        "model.add(MaxPooling1D(pool_size=2,strides=None))\n",
        "model.add(Dropout(0.4))#0.1\n",
        "model.add(Flatten()) # Flatten is the input layer of the Fully Connected\n",
        "model.add(Dense(100, activation='relu')) # gets input size from flatten\n",
        "model.add(BatchNormalization())\n",
        "model.add(Dropout(0.4))#0.2\n",
        "model.add(Dense(3, activation='softmax'))\n",
        "model.compile(loss=tensorflow.keras.losses.categorical_crossentropy,\n",
        "              optimizer=tensorflow.keras.optimizers.Adam(),\n",
        "              metrics=['accuracy'])"
      ],
      "metadata": {
        "colab": {
          "base_uri": "https://localhost:8080/"
        },
        "id": "OXluTR0CplkB",
        "outputId": "90e9c2b4-cd7b-4f96-ea2d-23077db86d1f"
      },
      "execution_count": 27,
      "outputs": [
        {
          "output_type": "stream",
          "name": "stdout",
          "text": [
            "Model: \"sequential_4\"\n",
            "_________________________________________________________________\n",
            " Layer (type)                Output Shape              Param #   \n",
            "=================================================================\n",
            " conv1d_12 (Conv1D)          (None, 8, 32)             224       \n",
            "                                                                 \n",
            " batch_normalization_12 (Bat  (None, 8, 32)            128       \n",
            " chNormalization)                                                \n",
            "                                                                 \n",
            " conv1d_13 (Conv1D)          (None, 8, 64)             6208      \n",
            "                                                                 \n",
            " batch_normalization_13 (Bat  (None, 8, 64)            256       \n",
            " chNormalization)                                                \n",
            "                                                                 \n",
            " max_pooling1d_8 (MaxPooling  (None, 4, 64)            0         \n",
            " 1D)                                                             \n",
            "                                                                 \n",
            " dropout_12 (Dropout)        (None, 4, 64)             0         \n",
            "                                                                 \n",
            " conv1d_14 (Conv1D)          (None, 4, 512)            98816     \n",
            "                                                                 \n",
            " max_pooling1d_9 (MaxPooling  (None, 2, 512)           0         \n",
            " 1D)                                                             \n",
            "                                                                 \n",
            " dropout_13 (Dropout)        (None, 2, 512)            0         \n",
            "                                                                 \n",
            " flatten_4 (Flatten)         (None, 1024)              0         \n",
            "                                                                 \n",
            " dense_8 (Dense)             (None, 100)               102500    \n",
            "                                                                 \n",
            " batch_normalization_14 (Bat  (None, 100)              400       \n",
            " chNormalization)                                                \n",
            "                                                                 \n",
            " dropout_14 (Dropout)        (None, 100)               0         \n",
            "                                                                 \n",
            " dense_9 (Dense)             (None, 3)                 303       \n",
            "                                                                 \n",
            "=================================================================\n",
            "Total params: 208,835\n",
            "Trainable params: 208,443\n",
            "Non-trainable params: 392\n",
            "_________________________________________________________________\n"
          ]
        }
      ]
    },
    {
      "cell_type": "code",
      "source": [
        "from keras.layers import Dense, Activation , LSTM , Dropout , AveragePooling3D\n",
        "def model(alpha = 0.001):\n",
        "    model = Sequential()\n",
        "    model.add(LSTM(56, input_shape=(8,2), return_sequences=True))\n",
        "    model.add(Dropout(0.4))\n",
        "    model.add(BatchNormalization())\n",
        "    model.add(LSTM(56))\n",
        "    model.add(Dropout(0.4))\n",
        "    model.add(Dense(80))\n",
        "    model.add(Activation('relu'))\n",
        "    model.add(Dense(100))\n",
        "    # model.add(Activation('softmax'))\n",
        "    model.add(Dense(3, activation='softmax'))\n",
        "    model.compile(loss=tensorflow.keras.losses.categorical_crossentropy,\n",
        "                  optimizer=tensorflow.keras.optimizers.Adam(learning_rate=alpha),\n",
        "                  metrics=['accuracy'])\n",
        "    model.summary()"
      ],
      "metadata": {
        "colab": {
          "base_uri": "https://localhost:8080/"
        },
        "id": "xjCxrLMn-xDU",
        "outputId": "ed5040a1-ab29-4ce2-a154-179d614026fb"
      },
      "execution_count": 64,
      "outputs": [
        {
          "output_type": "stream",
          "name": "stdout",
          "text": [
            "Model: \"sequential_11\"\n",
            "_________________________________________________________________\n",
            " Layer (type)                Output Shape              Param #   \n",
            "=================================================================\n",
            " lstm_12 (LSTM)              (None, 8, 56)             13216     \n",
            "                                                                 \n",
            " dropout_27 (Dropout)        (None, 8, 56)             0         \n",
            "                                                                 \n",
            " batch_normalization_19 (Bat  (None, 8, 56)            224       \n",
            " chNormalization)                                                \n",
            "                                                                 \n",
            " lstm_13 (LSTM)              (None, 56)                25312     \n",
            "                                                                 \n",
            " dropout_28 (Dropout)        (None, 56)                0         \n",
            "                                                                 \n",
            " dense_28 (Dense)            (None, 80)                4560      \n",
            "                                                                 \n",
            " activation_6 (Activation)   (None, 80)                0         \n",
            "                                                                 \n",
            " dense_29 (Dense)            (None, 100)               8100      \n",
            "                                                                 \n",
            " dense_30 (Dense)            (None, 3)                 303       \n",
            "                                                                 \n",
            "=================================================================\n",
            "Total params: 51,715\n",
            "Trainable params: 51,603\n",
            "Non-trainable params: 112\n",
            "_________________________________________________________________\n"
          ]
        }
      ]
    },
    {
      "cell_type": "code",
      "source": [
        "checkpointer = ModelCheckpoint(filepath='./'+'_best_weights.h5', verbose=1, monitor='val_loss', mode='auto', save_best_only=True) #save at each epoch if the validation decreased\n",
        "\n",
        "history =model.fit(x_train_new, Y_train_new, epochs=150, batch_size=512, verbose=1, validation_split=0.2, callbacks=[checkpointer])\n",
        "\n",
        "model.save('weights_cnn2.h5')"
      ],
      "metadata": {
        "colab": {
          "base_uri": "https://localhost:8080/"
        },
        "id": "XPJI049Iprb4",
        "outputId": "0801245f-5771-44e0-a5ca-edd5728730ae"
      },
      "execution_count": 65,
      "outputs": [
        {
          "output_type": "stream",
          "name": "stdout",
          "text": [
            "Epoch 1/150\n",
            "18/19 [===========================>..] - ETA: 0s - loss: 0.8195 - accuracy: 0.5920\n",
            "Epoch 1: val_loss improved from inf to 0.72844, saving model to ./_best_weights.h5\n",
            "19/19 [==============================] - 6s 119ms/step - loss: 0.8170 - accuracy: 0.5922 - val_loss: 0.7284 - val_accuracy: 0.6321\n",
            "Epoch 2/150\n",
            "18/19 [===========================>..] - ETA: 0s - loss: 0.6740 - accuracy: 0.6578\n",
            "Epoch 2: val_loss improved from 0.72844 to 0.70468, saving model to ./_best_weights.h5\n",
            "19/19 [==============================] - 1s 69ms/step - loss: 0.6731 - accuracy: 0.6588 - val_loss: 0.7047 - val_accuracy: 0.5863\n",
            "Epoch 3/150\n",
            "18/19 [===========================>..] - ETA: 0s - loss: 0.6506 - accuracy: 0.6762\n",
            "Epoch 3: val_loss improved from 0.70468 to 0.67790, saving model to ./_best_weights.h5\n",
            "19/19 [==============================] - 1s 70ms/step - loss: 0.6498 - accuracy: 0.6769 - val_loss: 0.6779 - val_accuracy: 0.6355\n",
            "Epoch 4/150\n",
            "18/19 [===========================>..] - ETA: 0s - loss: 0.6317 - accuracy: 0.6924\n",
            "Epoch 4: val_loss improved from 0.67790 to 0.66609, saving model to ./_best_weights.h5\n",
            "19/19 [==============================] - 1s 71ms/step - loss: 0.6314 - accuracy: 0.6921 - val_loss: 0.6661 - val_accuracy: 0.6457\n",
            "Epoch 5/150\n",
            "18/19 [===========================>..] - ETA: 0s - loss: 0.6206 - accuracy: 0.7002\n",
            "Epoch 5: val_loss improved from 0.66609 to 0.64197, saving model to ./_best_weights.h5\n",
            "19/19 [==============================] - 1s 71ms/step - loss: 0.6199 - accuracy: 0.7005 - val_loss: 0.6420 - val_accuracy: 0.6803\n",
            "Epoch 6/150\n",
            "18/19 [===========================>..] - ETA: 0s - loss: 0.6069 - accuracy: 0.7118\n",
            "Epoch 6: val_loss improved from 0.64197 to 0.63205, saving model to ./_best_weights.h5\n",
            "19/19 [==============================] - 1s 72ms/step - loss: 0.6060 - accuracy: 0.7125 - val_loss: 0.6320 - val_accuracy: 0.6996\n",
            "Epoch 7/150\n",
            "18/19 [===========================>..] - ETA: 0s - loss: 0.5923 - accuracy: 0.7232\n",
            "Epoch 7: val_loss improved from 0.63205 to 0.61540, saving model to ./_best_weights.h5\n",
            "19/19 [==============================] - 1s 71ms/step - loss: 0.5914 - accuracy: 0.7241 - val_loss: 0.6154 - val_accuracy: 0.6970\n",
            "Epoch 8/150\n",
            "18/19 [===========================>..] - ETA: 0s - loss: 0.5794 - accuracy: 0.7308\n",
            "Epoch 8: val_loss did not improve from 0.61540\n",
            "19/19 [==============================] - 1s 72ms/step - loss: 0.5796 - accuracy: 0.7308 - val_loss: 0.6239 - val_accuracy: 0.6868\n",
            "Epoch 9/150\n",
            "18/19 [===========================>..] - ETA: 0s - loss: 0.5687 - accuracy: 0.7408\n",
            "Epoch 9: val_loss improved from 0.61540 to 0.59934, saving model to ./_best_weights.h5\n",
            "19/19 [==============================] - 1s 71ms/step - loss: 0.5687 - accuracy: 0.7406 - val_loss: 0.5993 - val_accuracy: 0.7094\n",
            "Epoch 10/150\n",
            "18/19 [===========================>..] - ETA: 0s - loss: 0.5544 - accuracy: 0.7503\n",
            "Epoch 10: val_loss improved from 0.59934 to 0.58894, saving model to ./_best_weights.h5\n",
            "19/19 [==============================] - 1s 71ms/step - loss: 0.5550 - accuracy: 0.7501 - val_loss: 0.5889 - val_accuracy: 0.7171\n",
            "Epoch 11/150\n",
            "18/19 [===========================>..] - ETA: 0s - loss: 0.5491 - accuracy: 0.7502\n",
            "Epoch 11: val_loss did not improve from 0.58894\n",
            "19/19 [==============================] - 2s 111ms/step - loss: 0.5495 - accuracy: 0.7500 - val_loss: 0.5990 - val_accuracy: 0.7047\n",
            "Epoch 12/150\n",
            "19/19 [==============================] - ETA: 0s - loss: 0.5411 - accuracy: 0.7536\n",
            "Epoch 12: val_loss improved from 0.58894 to 0.57061, saving model to ./_best_weights.h5\n",
            "19/19 [==============================] - 2s 132ms/step - loss: 0.5411 - accuracy: 0.7536 - val_loss: 0.5706 - val_accuracy: 0.7244\n",
            "Epoch 13/150\n",
            "19/19 [==============================] - ETA: 0s - loss: 0.5308 - accuracy: 0.7552\n",
            "Epoch 13: val_loss improved from 0.57061 to 0.56969, saving model to ./_best_weights.h5\n",
            "19/19 [==============================] - 2s 121ms/step - loss: 0.5308 - accuracy: 0.7552 - val_loss: 0.5697 - val_accuracy: 0.7248\n",
            "Epoch 14/150\n",
            "18/19 [===========================>..] - ETA: 0s - loss: 0.5231 - accuracy: 0.7602\n",
            "Epoch 14: val_loss improved from 0.56969 to 0.55497, saving model to ./_best_weights.h5\n",
            "19/19 [==============================] - 2s 85ms/step - loss: 0.5229 - accuracy: 0.7606 - val_loss: 0.5550 - val_accuracy: 0.7393\n",
            "Epoch 15/150\n",
            "18/19 [===========================>..] - ETA: 0s - loss: 0.5144 - accuracy: 0.7658\n",
            "Epoch 15: val_loss did not improve from 0.55497\n",
            "19/19 [==============================] - 1s 69ms/step - loss: 0.5148 - accuracy: 0.7650 - val_loss: 0.5750 - val_accuracy: 0.7265\n",
            "Epoch 16/150\n",
            "18/19 [===========================>..] - ETA: 0s - loss: 0.5105 - accuracy: 0.7641\n",
            "Epoch 16: val_loss did not improve from 0.55497\n",
            "19/19 [==============================] - 1s 71ms/step - loss: 0.5106 - accuracy: 0.7642 - val_loss: 0.5766 - val_accuracy: 0.7321\n",
            "Epoch 17/150\n",
            "18/19 [===========================>..] - ETA: 0s - loss: 0.5098 - accuracy: 0.7682\n",
            "Epoch 17: val_loss improved from 0.55497 to 0.53669, saving model to ./_best_weights.h5\n",
            "19/19 [==============================] - 1s 75ms/step - loss: 0.5095 - accuracy: 0.7685 - val_loss: 0.5367 - val_accuracy: 0.7462\n",
            "Epoch 18/150\n",
            "18/19 [===========================>..] - ETA: 0s - loss: 0.4977 - accuracy: 0.7721\n",
            "Epoch 18: val_loss did not improve from 0.53669\n",
            "19/19 [==============================] - 1s 70ms/step - loss: 0.4965 - accuracy: 0.7734 - val_loss: 0.5527 - val_accuracy: 0.7444\n",
            "Epoch 19/150\n",
            "18/19 [===========================>..] - ETA: 0s - loss: 0.4941 - accuracy: 0.7745\n",
            "Epoch 19: val_loss did not improve from 0.53669\n",
            "19/19 [==============================] - 1s 72ms/step - loss: 0.4931 - accuracy: 0.7755 - val_loss: 0.5633 - val_accuracy: 0.7363\n",
            "Epoch 20/150\n",
            "18/19 [===========================>..] - ETA: 0s - loss: 0.4896 - accuracy: 0.7780\n",
            "Epoch 20: val_loss did not improve from 0.53669\n",
            "19/19 [==============================] - 1s 71ms/step - loss: 0.4886 - accuracy: 0.7783 - val_loss: 0.5471 - val_accuracy: 0.7457\n",
            "Epoch 21/150\n",
            "18/19 [===========================>..] - ETA: 0s - loss: 0.4835 - accuracy: 0.7792\n",
            "Epoch 21: val_loss improved from 0.53669 to 0.52481, saving model to ./_best_weights.h5\n",
            "19/19 [==============================] - 1s 73ms/step - loss: 0.4829 - accuracy: 0.7797 - val_loss: 0.5248 - val_accuracy: 0.7538\n",
            "Epoch 22/150\n",
            "18/19 [===========================>..] - ETA: 0s - loss: 0.4816 - accuracy: 0.7804\n",
            "Epoch 22: val_loss improved from 0.52481 to 0.50773, saving model to ./_best_weights.h5\n",
            "19/19 [==============================] - 1s 71ms/step - loss: 0.4820 - accuracy: 0.7803 - val_loss: 0.5077 - val_accuracy: 0.7556\n",
            "Epoch 23/150\n",
            "18/19 [===========================>..] - ETA: 0s - loss: 0.4737 - accuracy: 0.7865\n",
            "Epoch 23: val_loss did not improve from 0.50773\n",
            "19/19 [==============================] - 1s 69ms/step - loss: 0.4740 - accuracy: 0.7864 - val_loss: 0.5177 - val_accuracy: 0.7538\n",
            "Epoch 24/150\n",
            "18/19 [===========================>..] - ETA: 0s - loss: 0.4715 - accuracy: 0.7891\n",
            "Epoch 24: val_loss improved from 0.50773 to 0.48562, saving model to ./_best_weights.h5\n",
            "19/19 [==============================] - 1s 71ms/step - loss: 0.4727 - accuracy: 0.7887 - val_loss: 0.4856 - val_accuracy: 0.7722\n",
            "Epoch 25/150\n",
            "18/19 [===========================>..] - ETA: 0s - loss: 0.4661 - accuracy: 0.7886\n",
            "Epoch 25: val_loss improved from 0.48562 to 0.48270, saving model to ./_best_weights.h5\n",
            "19/19 [==============================] - 1s 77ms/step - loss: 0.4654 - accuracy: 0.7888 - val_loss: 0.4827 - val_accuracy: 0.7752\n",
            "Epoch 26/150\n",
            "18/19 [===========================>..] - ETA: 0s - loss: 0.4601 - accuracy: 0.7909\n",
            "Epoch 26: val_loss improved from 0.48270 to 0.45869, saving model to ./_best_weights.h5\n",
            "19/19 [==============================] - 1s 72ms/step - loss: 0.4610 - accuracy: 0.7906 - val_loss: 0.4587 - val_accuracy: 0.7970\n",
            "Epoch 27/150\n",
            "18/19 [===========================>..] - ETA: 0s - loss: 0.4595 - accuracy: 0.7914\n",
            "Epoch 27: val_loss did not improve from 0.45869\n",
            "19/19 [==============================] - 1s 72ms/step - loss: 0.4586 - accuracy: 0.7919 - val_loss: 0.4648 - val_accuracy: 0.7910\n",
            "Epoch 28/150\n",
            "18/19 [===========================>..] - ETA: 0s - loss: 0.4614 - accuracy: 0.7973\n",
            "Epoch 28: val_loss improved from 0.45869 to 0.45669, saving model to ./_best_weights.h5\n",
            "19/19 [==============================] - 1s 73ms/step - loss: 0.4609 - accuracy: 0.7974 - val_loss: 0.4567 - val_accuracy: 0.7974\n",
            "Epoch 29/150\n",
            "18/19 [===========================>..] - ETA: 0s - loss: 0.4588 - accuracy: 0.7923\n",
            "Epoch 29: val_loss did not improve from 0.45669\n",
            "19/19 [==============================] - 1s 69ms/step - loss: 0.4581 - accuracy: 0.7925 - val_loss: 0.4716 - val_accuracy: 0.7833\n",
            "Epoch 30/150\n",
            "18/19 [===========================>..] - ETA: 0s - loss: 0.4569 - accuracy: 0.7938\n",
            "Epoch 30: val_loss improved from 0.45669 to 0.45165, saving model to ./_best_weights.h5\n",
            "19/19 [==============================] - 1s 72ms/step - loss: 0.4566 - accuracy: 0.7941 - val_loss: 0.4517 - val_accuracy: 0.7996\n",
            "Epoch 31/150\n",
            "18/19 [===========================>..] - ETA: 0s - loss: 0.4494 - accuracy: 0.7993\n",
            "Epoch 31: val_loss did not improve from 0.45165\n",
            "19/19 [==============================] - 1s 70ms/step - loss: 0.4503 - accuracy: 0.7989 - val_loss: 0.4538 - val_accuracy: 0.7919\n",
            "Epoch 32/150\n",
            "18/19 [===========================>..] - ETA: 0s - loss: 0.4460 - accuracy: 0.7996\n",
            "Epoch 32: val_loss improved from 0.45165 to 0.43902, saving model to ./_best_weights.h5\n",
            "19/19 [==============================] - 1s 72ms/step - loss: 0.4476 - accuracy: 0.7995 - val_loss: 0.4390 - val_accuracy: 0.8090\n",
            "Epoch 33/150\n",
            "18/19 [===========================>..] - ETA: 0s - loss: 0.4460 - accuracy: 0.7976\n",
            "Epoch 33: val_loss did not improve from 0.43902\n",
            "19/19 [==============================] - 1s 69ms/step - loss: 0.4456 - accuracy: 0.7978 - val_loss: 0.4427 - val_accuracy: 0.8073\n",
            "Epoch 34/150\n",
            "18/19 [===========================>..] - ETA: 0s - loss: 0.4399 - accuracy: 0.8022\n",
            "Epoch 34: val_loss did not improve from 0.43902\n",
            "19/19 [==============================] - 1s 72ms/step - loss: 0.4398 - accuracy: 0.8022 - val_loss: 0.4400 - val_accuracy: 0.8047\n",
            "Epoch 35/150\n",
            "18/19 [===========================>..] - ETA: 0s - loss: 0.4362 - accuracy: 0.8026\n",
            "Epoch 35: val_loss did not improve from 0.43902\n",
            "19/19 [==============================] - 1s 72ms/step - loss: 0.4380 - accuracy: 0.8019 - val_loss: 0.4451 - val_accuracy: 0.8030\n",
            "Epoch 36/150\n",
            "18/19 [===========================>..] - ETA: 0s - loss: 0.4349 - accuracy: 0.8049\n",
            "Epoch 36: val_loss improved from 0.43902 to 0.42057, saving model to ./_best_weights.h5\n",
            "19/19 [==============================] - 1s 71ms/step - loss: 0.4349 - accuracy: 0.8053 - val_loss: 0.4206 - val_accuracy: 0.8154\n",
            "Epoch 37/150\n",
            "18/19 [===========================>..] - ETA: 0s - loss: 0.4291 - accuracy: 0.8091\n",
            "Epoch 37: val_loss improved from 0.42057 to 0.42038, saving model to ./_best_weights.h5\n",
            "19/19 [==============================] - 1s 73ms/step - loss: 0.4291 - accuracy: 0.8088 - val_loss: 0.4204 - val_accuracy: 0.8124\n",
            "Epoch 38/150\n",
            "18/19 [===========================>..] - ETA: 0s - loss: 0.4247 - accuracy: 0.8105\n",
            "Epoch 38: val_loss improved from 0.42038 to 0.41640, saving model to ./_best_weights.h5\n",
            "19/19 [==============================] - 1s 73ms/step - loss: 0.4257 - accuracy: 0.8100 - val_loss: 0.4164 - val_accuracy: 0.8201\n",
            "Epoch 39/150\n",
            "18/19 [===========================>..] - ETA: 0s - loss: 0.4293 - accuracy: 0.8069\n",
            "Epoch 39: val_loss improved from 0.41640 to 0.41145, saving model to ./_best_weights.h5\n",
            "19/19 [==============================] - 1s 71ms/step - loss: 0.4305 - accuracy: 0.8066 - val_loss: 0.4114 - val_accuracy: 0.8184\n",
            "Epoch 40/150\n",
            "18/19 [===========================>..] - ETA: 0s - loss: 0.4304 - accuracy: 0.8060\n",
            "Epoch 40: val_loss did not improve from 0.41145\n",
            "19/19 [==============================] - 1s 70ms/step - loss: 0.4294 - accuracy: 0.8063 - val_loss: 0.4232 - val_accuracy: 0.8103\n",
            "Epoch 41/150\n",
            "18/19 [===========================>..] - ETA: 0s - loss: 0.4195 - accuracy: 0.8118\n",
            "Epoch 41: val_loss did not improve from 0.41145\n",
            "19/19 [==============================] - 1s 71ms/step - loss: 0.4194 - accuracy: 0.8117 - val_loss: 0.4128 - val_accuracy: 0.8179\n",
            "Epoch 42/150\n",
            "18/19 [===========================>..] - ETA: 0s - loss: 0.4249 - accuracy: 0.8088\n",
            "Epoch 42: val_loss did not improve from 0.41145\n",
            "19/19 [==============================] - 1s 71ms/step - loss: 0.4251 - accuracy: 0.8082 - val_loss: 0.4127 - val_accuracy: 0.8218\n",
            "Epoch 43/150\n",
            "18/19 [===========================>..] - ETA: 0s - loss: 0.4202 - accuracy: 0.8168\n",
            "Epoch 43: val_loss did not improve from 0.41145\n",
            "19/19 [==============================] - 1s 71ms/step - loss: 0.4202 - accuracy: 0.8165 - val_loss: 0.4135 - val_accuracy: 0.8175\n",
            "Epoch 44/150\n",
            "18/19 [===========================>..] - ETA: 0s - loss: 0.4235 - accuracy: 0.8103\n",
            "Epoch 44: val_loss improved from 0.41145 to 0.40419, saving model to ./_best_weights.h5\n",
            "19/19 [==============================] - 1s 75ms/step - loss: 0.4234 - accuracy: 0.8106 - val_loss: 0.4042 - val_accuracy: 0.8248\n",
            "Epoch 45/150\n",
            "18/19 [===========================>..] - ETA: 0s - loss: 0.4235 - accuracy: 0.8139\n",
            "Epoch 45: val_loss did not improve from 0.40419\n",
            "19/19 [==============================] - 1s 70ms/step - loss: 0.4226 - accuracy: 0.8146 - val_loss: 0.4110 - val_accuracy: 0.8201\n",
            "Epoch 46/150\n",
            "18/19 [===========================>..] - ETA: 0s - loss: 0.4175 - accuracy: 0.8181\n",
            "Epoch 46: val_loss did not improve from 0.40419\n",
            "19/19 [==============================] - 1s 71ms/step - loss: 0.4164 - accuracy: 0.8191 - val_loss: 0.4151 - val_accuracy: 0.8162\n",
            "Epoch 47/150\n",
            "18/19 [===========================>..] - ETA: 0s - loss: 0.4124 - accuracy: 0.8212\n",
            "Epoch 47: val_loss did not improve from 0.40419\n",
            "19/19 [==============================] - 1s 71ms/step - loss: 0.4122 - accuracy: 0.8213 - val_loss: 0.4135 - val_accuracy: 0.8171\n",
            "Epoch 48/150\n",
            "18/19 [===========================>..] - ETA: 0s - loss: 0.4111 - accuracy: 0.8176\n",
            "Epoch 48: val_loss did not improve from 0.40419\n",
            "19/19 [==============================] - 1s 69ms/step - loss: 0.4098 - accuracy: 0.8183 - val_loss: 0.4111 - val_accuracy: 0.8239\n",
            "Epoch 49/150\n",
            "18/19 [===========================>..] - ETA: 0s - loss: 0.4025 - accuracy: 0.8223\n",
            "Epoch 49: val_loss improved from 0.40419 to 0.39290, saving model to ./_best_weights.h5\n",
            "19/19 [==============================] - 1s 72ms/step - loss: 0.4030 - accuracy: 0.8223 - val_loss: 0.3929 - val_accuracy: 0.8303\n",
            "Epoch 50/150\n",
            "18/19 [===========================>..] - ETA: 0s - loss: 0.4013 - accuracy: 0.8262\n",
            "Epoch 50: val_loss did not improve from 0.39290\n",
            "19/19 [==============================] - 1s 73ms/step - loss: 0.4016 - accuracy: 0.8256 - val_loss: 0.4082 - val_accuracy: 0.8214\n",
            "Epoch 51/150\n",
            "18/19 [===========================>..] - ETA: 0s - loss: 0.4067 - accuracy: 0.8203\n",
            "Epoch 51: val_loss did not improve from 0.39290\n",
            "19/19 [==============================] - 1s 70ms/step - loss: 0.4084 - accuracy: 0.8190 - val_loss: 0.3995 - val_accuracy: 0.8252\n",
            "Epoch 52/150\n",
            "18/19 [===========================>..] - ETA: 0s - loss: 0.4022 - accuracy: 0.8236\n",
            "Epoch 52: val_loss did not improve from 0.39290\n",
            "19/19 [==============================] - 1s 75ms/step - loss: 0.4019 - accuracy: 0.8236 - val_loss: 0.3954 - val_accuracy: 0.8321\n",
            "Epoch 53/150\n",
            "18/19 [===========================>..] - ETA: 0s - loss: 0.3899 - accuracy: 0.8285\n",
            "Epoch 53: val_loss did not improve from 0.39290\n",
            "19/19 [==============================] - 1s 71ms/step - loss: 0.3907 - accuracy: 0.8276 - val_loss: 0.4219 - val_accuracy: 0.8209\n",
            "Epoch 54/150\n",
            "18/19 [===========================>..] - ETA: 0s - loss: 0.4058 - accuracy: 0.8179\n",
            "Epoch 54: val_loss did not improve from 0.39290\n",
            "19/19 [==============================] - 1s 70ms/step - loss: 0.4060 - accuracy: 0.8179 - val_loss: 0.4031 - val_accuracy: 0.8201\n",
            "Epoch 55/150\n",
            "18/19 [===========================>..] - ETA: 0s - loss: 0.4026 - accuracy: 0.8216\n",
            "Epoch 55: val_loss did not improve from 0.39290\n",
            "19/19 [==============================] - 1s 68ms/step - loss: 0.4021 - accuracy: 0.8217 - val_loss: 0.3936 - val_accuracy: 0.8235\n",
            "Epoch 56/150\n",
            "18/19 [===========================>..] - ETA: 0s - loss: 0.3895 - accuracy: 0.8301\n",
            "Epoch 56: val_loss improved from 0.39290 to 0.39224, saving model to ./_best_weights.h5\n",
            "19/19 [==============================] - 1s 73ms/step - loss: 0.3902 - accuracy: 0.8299 - val_loss: 0.3922 - val_accuracy: 0.8282\n",
            "Epoch 57/150\n",
            "18/19 [===========================>..] - ETA: 0s - loss: 0.3923 - accuracy: 0.8288\n",
            "Epoch 57: val_loss did not improve from 0.39224\n",
            "19/19 [==============================] - 1s 72ms/step - loss: 0.3931 - accuracy: 0.8286 - val_loss: 0.3935 - val_accuracy: 0.8231\n",
            "Epoch 58/150\n",
            "18/19 [===========================>..] - ETA: 0s - loss: 0.3909 - accuracy: 0.8314\n",
            "Epoch 58: val_loss improved from 0.39224 to 0.38422, saving model to ./_best_weights.h5\n",
            "19/19 [==============================] - 1s 73ms/step - loss: 0.3912 - accuracy: 0.8312 - val_loss: 0.3842 - val_accuracy: 0.8321\n",
            "Epoch 59/150\n",
            "18/19 [===========================>..] - ETA: 0s - loss: 0.3856 - accuracy: 0.8343\n",
            "Epoch 59: val_loss did not improve from 0.38422\n",
            "19/19 [==============================] - 1s 71ms/step - loss: 0.3861 - accuracy: 0.8341 - val_loss: 0.3847 - val_accuracy: 0.8321\n",
            "Epoch 60/150\n",
            "18/19 [===========================>..] - ETA: 0s - loss: 0.3833 - accuracy: 0.8341\n",
            "Epoch 60: val_loss did not improve from 0.38422\n",
            "19/19 [==============================] - 1s 70ms/step - loss: 0.3821 - accuracy: 0.8347 - val_loss: 0.3844 - val_accuracy: 0.8342\n",
            "Epoch 61/150\n",
            "18/19 [===========================>..] - ETA: 0s - loss: 0.3857 - accuracy: 0.8318\n",
            "Epoch 61: val_loss did not improve from 0.38422\n",
            "19/19 [==============================] - 1s 70ms/step - loss: 0.3849 - accuracy: 0.8321 - val_loss: 0.3893 - val_accuracy: 0.8312\n",
            "Epoch 62/150\n",
            "18/19 [===========================>..] - ETA: 0s - loss: 0.3873 - accuracy: 0.8313\n",
            "Epoch 62: val_loss improved from 0.38422 to 0.37839, saving model to ./_best_weights.h5\n",
            "19/19 [==============================] - 1s 71ms/step - loss: 0.3875 - accuracy: 0.8314 - val_loss: 0.3784 - val_accuracy: 0.8325\n",
            "Epoch 63/150\n",
            "18/19 [===========================>..] - ETA: 0s - loss: 0.3835 - accuracy: 0.8298\n",
            "Epoch 63: val_loss improved from 0.37839 to 0.37440, saving model to ./_best_weights.h5\n",
            "19/19 [==============================] - 1s 76ms/step - loss: 0.3833 - accuracy: 0.8300 - val_loss: 0.3744 - val_accuracy: 0.8397\n",
            "Epoch 64/150\n",
            "18/19 [===========================>..] - ETA: 0s - loss: 0.3777 - accuracy: 0.8338\n",
            "Epoch 64: val_loss did not improve from 0.37440\n",
            "19/19 [==============================] - 1s 71ms/step - loss: 0.3771 - accuracy: 0.8342 - val_loss: 0.3835 - val_accuracy: 0.8308\n",
            "Epoch 65/150\n",
            "18/19 [===========================>..] - ETA: 0s - loss: 0.3788 - accuracy: 0.8341\n",
            "Epoch 65: val_loss did not improve from 0.37440\n",
            "19/19 [==============================] - 1s 72ms/step - loss: 0.3791 - accuracy: 0.8337 - val_loss: 0.3751 - val_accuracy: 0.8359\n",
            "Epoch 66/150\n",
            "18/19 [===========================>..] - ETA: 0s - loss: 0.3780 - accuracy: 0.8316\n",
            "Epoch 66: val_loss improved from 0.37440 to 0.37157, saving model to ./_best_weights.h5\n",
            "19/19 [==============================] - 1s 73ms/step - loss: 0.3776 - accuracy: 0.8316 - val_loss: 0.3716 - val_accuracy: 0.8423\n",
            "Epoch 67/150\n",
            "18/19 [===========================>..] - ETA: 0s - loss: 0.3777 - accuracy: 0.8337\n",
            "Epoch 67: val_loss did not improve from 0.37157\n",
            "19/19 [==============================] - 1s 71ms/step - loss: 0.3776 - accuracy: 0.8339 - val_loss: 0.3767 - val_accuracy: 0.8278\n",
            "Epoch 68/150\n",
            "18/19 [===========================>..] - ETA: 0s - loss: 0.3756 - accuracy: 0.8345\n",
            "Epoch 68: val_loss improved from 0.37157 to 0.36664, saving model to ./_best_weights.h5\n",
            "19/19 [==============================] - 1s 73ms/step - loss: 0.3777 - accuracy: 0.8332 - val_loss: 0.3666 - val_accuracy: 0.8397\n",
            "Epoch 69/150\n",
            "18/19 [===========================>..] - ETA: 0s - loss: 0.3808 - accuracy: 0.8331\n",
            "Epoch 69: val_loss did not improve from 0.36664\n",
            "19/19 [==============================] - 1s 71ms/step - loss: 0.3808 - accuracy: 0.8334 - val_loss: 0.3695 - val_accuracy: 0.8350\n",
            "Epoch 70/150\n",
            "18/19 [===========================>..] - ETA: 0s - loss: 0.3721 - accuracy: 0.8368\n",
            "Epoch 70: val_loss improved from 0.36664 to 0.35894, saving model to ./_best_weights.h5\n",
            "19/19 [==============================] - 1s 72ms/step - loss: 0.3725 - accuracy: 0.8370 - val_loss: 0.3589 - val_accuracy: 0.8474\n",
            "Epoch 71/150\n",
            "18/19 [===========================>..] - ETA: 0s - loss: 0.3688 - accuracy: 0.8384\n",
            "Epoch 71: val_loss did not improve from 0.35894\n",
            "19/19 [==============================] - 1s 72ms/step - loss: 0.3689 - accuracy: 0.8378 - val_loss: 0.3725 - val_accuracy: 0.8303\n",
            "Epoch 72/150\n",
            "18/19 [===========================>..] - ETA: 0s - loss: 0.3713 - accuracy: 0.8389\n",
            "Epoch 72: val_loss did not improve from 0.35894\n",
            "19/19 [==============================] - 1s 71ms/step - loss: 0.3716 - accuracy: 0.8385 - val_loss: 0.3623 - val_accuracy: 0.8419\n",
            "Epoch 73/150\n",
            "18/19 [===========================>..] - ETA: 0s - loss: 0.3613 - accuracy: 0.8427\n",
            "Epoch 73: val_loss did not improve from 0.35894\n",
            "19/19 [==============================] - 1s 71ms/step - loss: 0.3622 - accuracy: 0.8426 - val_loss: 0.3686 - val_accuracy: 0.8397\n",
            "Epoch 74/150\n",
            "18/19 [===========================>..] - ETA: 0s - loss: 0.3685 - accuracy: 0.8401\n",
            "Epoch 74: val_loss did not improve from 0.35894\n",
            "19/19 [==============================] - 1s 74ms/step - loss: 0.3690 - accuracy: 0.8398 - val_loss: 0.3886 - val_accuracy: 0.8303\n",
            "Epoch 75/150\n",
            "18/19 [===========================>..] - ETA: 0s - loss: 0.3687 - accuracy: 0.8372\n",
            "Epoch 75: val_loss did not improve from 0.35894\n",
            "19/19 [==============================] - 1s 70ms/step - loss: 0.3681 - accuracy: 0.8376 - val_loss: 0.3715 - val_accuracy: 0.8393\n",
            "Epoch 76/150\n",
            "18/19 [===========================>..] - ETA: 0s - loss: 0.3754 - accuracy: 0.8349\n",
            "Epoch 76: val_loss did not improve from 0.35894\n",
            "19/19 [==============================] - 1s 70ms/step - loss: 0.3741 - accuracy: 0.8353 - val_loss: 0.3625 - val_accuracy: 0.8406\n",
            "Epoch 77/150\n",
            "18/19 [===========================>..] - ETA: 0s - loss: 0.3710 - accuracy: 0.8389\n",
            "Epoch 77: val_loss did not improve from 0.35894\n",
            "19/19 [==============================] - 1s 73ms/step - loss: 0.3711 - accuracy: 0.8391 - val_loss: 0.3592 - val_accuracy: 0.8436\n",
            "Epoch 78/150\n",
            "18/19 [===========================>..] - ETA: 0s - loss: 0.3681 - accuracy: 0.8340\n",
            "Epoch 78: val_loss did not improve from 0.35894\n",
            "19/19 [==============================] - 1s 71ms/step - loss: 0.3681 - accuracy: 0.8342 - val_loss: 0.3701 - val_accuracy: 0.8415\n",
            "Epoch 79/150\n",
            "18/19 [===========================>..] - ETA: 0s - loss: 0.3610 - accuracy: 0.8447\n",
            "Epoch 79: val_loss did not improve from 0.35894\n",
            "19/19 [==============================] - 1s 71ms/step - loss: 0.3612 - accuracy: 0.8449 - val_loss: 0.3683 - val_accuracy: 0.8393\n",
            "Epoch 80/150\n",
            "18/19 [===========================>..] - ETA: 0s - loss: 0.3530 - accuracy: 0.8453\n",
            "Epoch 80: val_loss did not improve from 0.35894\n",
            "19/19 [==============================] - 1s 71ms/step - loss: 0.3545 - accuracy: 0.8447 - val_loss: 0.3618 - val_accuracy: 0.8444\n",
            "Epoch 81/150\n",
            "18/19 [===========================>..] - ETA: 0s - loss: 0.3564 - accuracy: 0.8429\n",
            "Epoch 81: val_loss did not improve from 0.35894\n",
            "19/19 [==============================] - 1s 73ms/step - loss: 0.3566 - accuracy: 0.8430 - val_loss: 0.3603 - val_accuracy: 0.8449\n",
            "Epoch 82/150\n",
            "18/19 [===========================>..] - ETA: 0s - loss: 0.3600 - accuracy: 0.8380\n",
            "Epoch 82: val_loss did not improve from 0.35894\n",
            "19/19 [==============================] - 1s 72ms/step - loss: 0.3599 - accuracy: 0.8384 - val_loss: 0.3671 - val_accuracy: 0.8393\n",
            "Epoch 83/150\n",
            "18/19 [===========================>..] - ETA: 0s - loss: 0.3663 - accuracy: 0.8408\n",
            "Epoch 83: val_loss did not improve from 0.35894\n",
            "19/19 [==============================] - 1s 70ms/step - loss: 0.3667 - accuracy: 0.8408 - val_loss: 0.3609 - val_accuracy: 0.8440\n",
            "Epoch 84/150\n",
            "18/19 [===========================>..] - ETA: 0s - loss: 0.3644 - accuracy: 0.8440\n",
            "Epoch 84: val_loss did not improve from 0.35894\n",
            "19/19 [==============================] - 1s 71ms/step - loss: 0.3649 - accuracy: 0.8436 - val_loss: 0.3608 - val_accuracy: 0.8393\n",
            "Epoch 85/150\n",
            "18/19 [===========================>..] - ETA: 0s - loss: 0.3569 - accuracy: 0.8439\n",
            "Epoch 85: val_loss did not improve from 0.35894\n",
            "19/19 [==============================] - 1s 72ms/step - loss: 0.3572 - accuracy: 0.8435 - val_loss: 0.3783 - val_accuracy: 0.8329\n",
            "Epoch 86/150\n",
            "18/19 [===========================>..] - ETA: 0s - loss: 0.3673 - accuracy: 0.8394\n",
            "Epoch 86: val_loss did not improve from 0.35894\n",
            "19/19 [==============================] - 1s 71ms/step - loss: 0.3674 - accuracy: 0.8395 - val_loss: 0.3659 - val_accuracy: 0.8406\n",
            "Epoch 87/150\n",
            "18/19 [===========================>..] - ETA: 0s - loss: 0.3576 - accuracy: 0.8454\n",
            "Epoch 87: val_loss improved from 0.35894 to 0.35749, saving model to ./_best_weights.h5\n",
            "19/19 [==============================] - 1s 73ms/step - loss: 0.3587 - accuracy: 0.8444 - val_loss: 0.3575 - val_accuracy: 0.8462\n",
            "Epoch 88/150\n",
            "18/19 [===========================>..] - ETA: 0s - loss: 0.3532 - accuracy: 0.8445\n",
            "Epoch 88: val_loss did not improve from 0.35749\n",
            "19/19 [==============================] - 1s 70ms/step - loss: 0.3524 - accuracy: 0.8447 - val_loss: 0.3587 - val_accuracy: 0.8440\n",
            "Epoch 89/150\n",
            "18/19 [===========================>..] - ETA: 0s - loss: 0.3569 - accuracy: 0.8429\n",
            "Epoch 89: val_loss improved from 0.35749 to 0.35287, saving model to ./_best_weights.h5\n",
            "19/19 [==============================] - 1s 73ms/step - loss: 0.3581 - accuracy: 0.8417 - val_loss: 0.3529 - val_accuracy: 0.8466\n",
            "Epoch 90/150\n",
            "18/19 [===========================>..] - ETA: 0s - loss: 0.3503 - accuracy: 0.8447\n",
            "Epoch 90: val_loss improved from 0.35287 to 0.34792, saving model to ./_best_weights.h5\n",
            "19/19 [==============================] - 1s 75ms/step - loss: 0.3496 - accuracy: 0.8448 - val_loss: 0.3479 - val_accuracy: 0.8483\n",
            "Epoch 91/150\n",
            "18/19 [===========================>..] - ETA: 0s - loss: 0.3523 - accuracy: 0.8478\n",
            "Epoch 91: val_loss did not improve from 0.34792\n",
            "19/19 [==============================] - 1s 70ms/step - loss: 0.3521 - accuracy: 0.8477 - val_loss: 0.3530 - val_accuracy: 0.8457\n",
            "Epoch 92/150\n",
            "18/19 [===========================>..] - ETA: 0s - loss: 0.3461 - accuracy: 0.8521\n",
            "Epoch 92: val_loss improved from 0.34792 to 0.34706, saving model to ./_best_weights.h5\n",
            "19/19 [==============================] - 1s 74ms/step - loss: 0.3465 - accuracy: 0.8519 - val_loss: 0.3471 - val_accuracy: 0.8474\n",
            "Epoch 93/150\n",
            "18/19 [===========================>..] - ETA: 0s - loss: 0.3419 - accuracy: 0.8498\n",
            "Epoch 93: val_loss did not improve from 0.34706\n",
            "19/19 [==============================] - 1s 71ms/step - loss: 0.3426 - accuracy: 0.8496 - val_loss: 0.3608 - val_accuracy: 0.8496\n",
            "Epoch 94/150\n",
            "18/19 [===========================>..] - ETA: 0s - loss: 0.3456 - accuracy: 0.8484\n",
            "Epoch 94: val_loss did not improve from 0.34706\n",
            "19/19 [==============================] - 1s 72ms/step - loss: 0.3458 - accuracy: 0.8486 - val_loss: 0.3573 - val_accuracy: 0.8517\n",
            "Epoch 95/150\n",
            "18/19 [===========================>..] - ETA: 0s - loss: 0.3385 - accuracy: 0.8526\n",
            "Epoch 95: val_loss did not improve from 0.34706\n",
            "19/19 [==============================] - 1s 71ms/step - loss: 0.3386 - accuracy: 0.8525 - val_loss: 0.3639 - val_accuracy: 0.8432\n",
            "Epoch 96/150\n",
            "18/19 [===========================>..] - ETA: 0s - loss: 0.3441 - accuracy: 0.8488\n",
            "Epoch 96: val_loss did not improve from 0.34706\n",
            "19/19 [==============================] - 1s 71ms/step - loss: 0.3444 - accuracy: 0.8490 - val_loss: 0.3618 - val_accuracy: 0.8457\n",
            "Epoch 97/150\n",
            "18/19 [===========================>..] - ETA: 0s - loss: 0.3416 - accuracy: 0.8526\n",
            "Epoch 97: val_loss did not improve from 0.34706\n",
            "19/19 [==============================] - 1s 73ms/step - loss: 0.3409 - accuracy: 0.8529 - val_loss: 0.3590 - val_accuracy: 0.8436\n",
            "Epoch 98/150\n",
            "18/19 [===========================>..] - ETA: 0s - loss: 0.3395 - accuracy: 0.8515\n",
            "Epoch 98: val_loss did not improve from 0.34706\n",
            "19/19 [==============================] - 1s 74ms/step - loss: 0.3391 - accuracy: 0.8518 - val_loss: 0.3599 - val_accuracy: 0.8415\n",
            "Epoch 99/150\n",
            "18/19 [===========================>..] - ETA: 0s - loss: 0.3488 - accuracy: 0.8470\n",
            "Epoch 99: val_loss did not improve from 0.34706\n",
            "19/19 [==============================] - 1s 71ms/step - loss: 0.3499 - accuracy: 0.8464 - val_loss: 0.3474 - val_accuracy: 0.8517\n",
            "Epoch 100/150\n",
            "18/19 [===========================>..] - ETA: 0s - loss: 0.3406 - accuracy: 0.8543\n",
            "Epoch 100: val_loss did not improve from 0.34706\n",
            "19/19 [==============================] - 1s 72ms/step - loss: 0.3403 - accuracy: 0.8540 - val_loss: 0.3508 - val_accuracy: 0.8483\n",
            "Epoch 101/150\n",
            "18/19 [===========================>..] - ETA: 0s - loss: 0.3397 - accuracy: 0.8530\n",
            "Epoch 101: val_loss did not improve from 0.34706\n",
            "19/19 [==============================] - 1s 71ms/step - loss: 0.3406 - accuracy: 0.8522 - val_loss: 0.3598 - val_accuracy: 0.8432\n",
            "Epoch 102/150\n",
            "18/19 [===========================>..] - ETA: 0s - loss: 0.3438 - accuracy: 0.8490\n",
            "Epoch 102: val_loss did not improve from 0.34706\n",
            "19/19 [==============================] - 1s 72ms/step - loss: 0.3430 - accuracy: 0.8495 - val_loss: 0.3473 - val_accuracy: 0.8509\n",
            "Epoch 103/150\n",
            "18/19 [===========================>..] - ETA: 0s - loss: 0.3376 - accuracy: 0.8533\n",
            "Epoch 103: val_loss improved from 0.34706 to 0.34116, saving model to ./_best_weights.h5\n",
            "19/19 [==============================] - 1s 73ms/step - loss: 0.3377 - accuracy: 0.8536 - val_loss: 0.3412 - val_accuracy: 0.8560\n",
            "Epoch 104/150\n",
            "18/19 [===========================>..] - ETA: 0s - loss: 0.3426 - accuracy: 0.8484\n",
            "Epoch 104: val_loss did not improve from 0.34116\n",
            "19/19 [==============================] - 1s 73ms/step - loss: 0.3419 - accuracy: 0.8491 - val_loss: 0.3505 - val_accuracy: 0.8534\n",
            "Epoch 105/150\n",
            "18/19 [===========================>..] - ETA: 0s - loss: 0.3341 - accuracy: 0.8559\n",
            "Epoch 105: val_loss did not improve from 0.34116\n",
            "19/19 [==============================] - 1s 72ms/step - loss: 0.3337 - accuracy: 0.8559 - val_loss: 0.3535 - val_accuracy: 0.8556\n",
            "Epoch 106/150\n",
            "18/19 [===========================>..] - ETA: 0s - loss: 0.3365 - accuracy: 0.8520\n",
            "Epoch 106: val_loss did not improve from 0.34116\n",
            "19/19 [==============================] - 1s 72ms/step - loss: 0.3357 - accuracy: 0.8526 - val_loss: 0.3530 - val_accuracy: 0.8517\n",
            "Epoch 107/150\n",
            "18/19 [===========================>..] - ETA: 0s - loss: 0.3364 - accuracy: 0.8530\n",
            "Epoch 107: val_loss did not improve from 0.34116\n",
            "19/19 [==============================] - 1s 75ms/step - loss: 0.3356 - accuracy: 0.8536 - val_loss: 0.3497 - val_accuracy: 0.8500\n",
            "Epoch 108/150\n",
            "18/19 [===========================>..] - ETA: 0s - loss: 0.3294 - accuracy: 0.8555\n",
            "Epoch 108: val_loss did not improve from 0.34116\n",
            "19/19 [==============================] - 1s 73ms/step - loss: 0.3295 - accuracy: 0.8555 - val_loss: 0.3558 - val_accuracy: 0.8500\n",
            "Epoch 109/150\n",
            "18/19 [===========================>..] - ETA: 0s - loss: 0.3272 - accuracy: 0.8557\n",
            "Epoch 109: val_loss did not improve from 0.34116\n",
            "19/19 [==============================] - 1s 73ms/step - loss: 0.3273 - accuracy: 0.8560 - val_loss: 0.3658 - val_accuracy: 0.8453\n",
            "Epoch 110/150\n",
            "18/19 [===========================>..] - ETA: 0s - loss: 0.3365 - accuracy: 0.8537\n",
            "Epoch 110: val_loss did not improve from 0.34116\n",
            "19/19 [==============================] - 1s 71ms/step - loss: 0.3377 - accuracy: 0.8532 - val_loss: 0.3478 - val_accuracy: 0.8521\n",
            "Epoch 111/150\n",
            "18/19 [===========================>..] - ETA: 0s - loss: 0.3367 - accuracy: 0.8502\n",
            "Epoch 111: val_loss did not improve from 0.34116\n",
            "19/19 [==============================] - 1s 72ms/step - loss: 0.3371 - accuracy: 0.8498 - val_loss: 0.3505 - val_accuracy: 0.8556\n",
            "Epoch 112/150\n",
            "18/19 [===========================>..] - ETA: 0s - loss: 0.3348 - accuracy: 0.8548\n",
            "Epoch 112: val_loss did not improve from 0.34116\n",
            "19/19 [==============================] - 1s 73ms/step - loss: 0.3338 - accuracy: 0.8551 - val_loss: 0.3470 - val_accuracy: 0.8538\n",
            "Epoch 113/150\n",
            "18/19 [===========================>..] - ETA: 0s - loss: 0.3272 - accuracy: 0.8567\n",
            "Epoch 113: val_loss did not improve from 0.34116\n",
            "19/19 [==============================] - 1s 72ms/step - loss: 0.3280 - accuracy: 0.8563 - val_loss: 0.3469 - val_accuracy: 0.8577\n",
            "Epoch 114/150\n",
            "18/19 [===========================>..] - ETA: 0s - loss: 0.3334 - accuracy: 0.8572\n",
            "Epoch 114: val_loss did not improve from 0.34116\n",
            "19/19 [==============================] - 1s 72ms/step - loss: 0.3343 - accuracy: 0.8566 - val_loss: 0.3487 - val_accuracy: 0.8521\n",
            "Epoch 115/150\n",
            "18/19 [===========================>..] - ETA: 0s - loss: 0.3325 - accuracy: 0.8555\n",
            "Epoch 115: val_loss did not improve from 0.34116\n",
            "19/19 [==============================] - 1s 74ms/step - loss: 0.3330 - accuracy: 0.8549 - val_loss: 0.3507 - val_accuracy: 0.8534\n",
            "Epoch 116/150\n",
            "18/19 [===========================>..] - ETA: 0s - loss: 0.3348 - accuracy: 0.8538\n",
            "Epoch 116: val_loss did not improve from 0.34116\n",
            "19/19 [==============================] - 1s 75ms/step - loss: 0.3339 - accuracy: 0.8544 - val_loss: 0.3530 - val_accuracy: 0.8547\n",
            "Epoch 117/150\n",
            "18/19 [===========================>..] - ETA: 0s - loss: 0.3302 - accuracy: 0.8580\n",
            "Epoch 117: val_loss did not improve from 0.34116\n",
            "19/19 [==============================] - 1s 73ms/step - loss: 0.3308 - accuracy: 0.8575 - val_loss: 0.3442 - val_accuracy: 0.8560\n",
            "Epoch 118/150\n",
            "18/19 [===========================>..] - ETA: 0s - loss: 0.3236 - accuracy: 0.8588\n",
            "Epoch 118: val_loss did not improve from 0.34116\n",
            "19/19 [==============================] - 1s 73ms/step - loss: 0.3234 - accuracy: 0.8588 - val_loss: 0.3447 - val_accuracy: 0.8521\n",
            "Epoch 119/150\n",
            "18/19 [===========================>..] - ETA: 0s - loss: 0.3183 - accuracy: 0.8650\n",
            "Epoch 119: val_loss did not improve from 0.34116\n",
            "19/19 [==============================] - 1s 72ms/step - loss: 0.3174 - accuracy: 0.8656 - val_loss: 0.3527 - val_accuracy: 0.8538\n",
            "Epoch 120/150\n",
            "18/19 [===========================>..] - ETA: 0s - loss: 0.3198 - accuracy: 0.8619\n",
            "Epoch 120: val_loss did not improve from 0.34116\n",
            "19/19 [==============================] - 1s 71ms/step - loss: 0.3207 - accuracy: 0.8617 - val_loss: 0.3657 - val_accuracy: 0.8470\n",
            "Epoch 121/150\n",
            "18/19 [===========================>..] - ETA: 0s - loss: 0.3196 - accuracy: 0.8608\n",
            "Epoch 121: val_loss did not improve from 0.34116\n",
            "19/19 [==============================] - 1s 73ms/step - loss: 0.3193 - accuracy: 0.8614 - val_loss: 0.3423 - val_accuracy: 0.8594\n",
            "Epoch 122/150\n",
            "18/19 [===========================>..] - ETA: 0s - loss: 0.3197 - accuracy: 0.8612\n",
            "Epoch 122: val_loss did not improve from 0.34116\n",
            "19/19 [==============================] - 1s 73ms/step - loss: 0.3209 - accuracy: 0.8610 - val_loss: 0.3431 - val_accuracy: 0.8637\n",
            "Epoch 123/150\n",
            "18/19 [===========================>..] - ETA: 0s - loss: 0.3156 - accuracy: 0.8606\n",
            "Epoch 123: val_loss did not improve from 0.34116\n",
            "19/19 [==============================] - 1s 73ms/step - loss: 0.3156 - accuracy: 0.8607 - val_loss: 0.3465 - val_accuracy: 0.8594\n",
            "Epoch 124/150\n",
            "18/19 [===========================>..] - ETA: 0s - loss: 0.3197 - accuracy: 0.8632\n",
            "Epoch 124: val_loss did not improve from 0.34116\n",
            "19/19 [==============================] - 1s 72ms/step - loss: 0.3193 - accuracy: 0.8635 - val_loss: 0.3486 - val_accuracy: 0.8603\n",
            "Epoch 125/150\n",
            "18/19 [===========================>..] - ETA: 0s - loss: 0.3206 - accuracy: 0.8604\n",
            "Epoch 125: val_loss did not improve from 0.34116\n",
            "19/19 [==============================] - 1s 72ms/step - loss: 0.3223 - accuracy: 0.8596 - val_loss: 0.3615 - val_accuracy: 0.8598\n",
            "Epoch 126/150\n",
            "18/19 [===========================>..] - ETA: 0s - loss: 0.3215 - accuracy: 0.8640\n",
            "Epoch 126: val_loss did not improve from 0.34116\n",
            "19/19 [==============================] - 1s 72ms/step - loss: 0.3220 - accuracy: 0.8640 - val_loss: 0.3515 - val_accuracy: 0.8543\n",
            "Epoch 127/150\n",
            "18/19 [===========================>..] - ETA: 0s - loss: 0.3257 - accuracy: 0.8575\n",
            "Epoch 127: val_loss did not improve from 0.34116\n",
            "19/19 [==============================] - 1s 73ms/step - loss: 0.3262 - accuracy: 0.8575 - val_loss: 0.3418 - val_accuracy: 0.8603\n",
            "Epoch 128/150\n",
            "18/19 [===========================>..] - ETA: 0s - loss: 0.3144 - accuracy: 0.8596\n",
            "Epoch 128: val_loss did not improve from 0.34116\n",
            "19/19 [==============================] - 1s 73ms/step - loss: 0.3134 - accuracy: 0.8603 - val_loss: 0.3466 - val_accuracy: 0.8543\n",
            "Epoch 129/150\n",
            "18/19 [===========================>..] - ETA: 0s - loss: 0.3210 - accuracy: 0.8595\n",
            "Epoch 129: val_loss improved from 0.34116 to 0.33898, saving model to ./_best_weights.h5\n",
            "19/19 [==============================] - 1s 75ms/step - loss: 0.3211 - accuracy: 0.8597 - val_loss: 0.3390 - val_accuracy: 0.8603\n",
            "Epoch 130/150\n",
            "18/19 [===========================>..] - ETA: 0s - loss: 0.3227 - accuracy: 0.8592\n",
            "Epoch 130: val_loss did not improve from 0.33898\n",
            "19/19 [==============================] - 1s 73ms/step - loss: 0.3224 - accuracy: 0.8595 - val_loss: 0.3509 - val_accuracy: 0.8496\n",
            "Epoch 131/150\n",
            "18/19 [===========================>..] - ETA: 0s - loss: 0.3146 - accuracy: 0.8602\n",
            "Epoch 131: val_loss did not improve from 0.33898\n",
            "19/19 [==============================] - 1s 73ms/step - loss: 0.3144 - accuracy: 0.8603 - val_loss: 0.3634 - val_accuracy: 0.8547\n",
            "Epoch 132/150\n",
            "18/19 [===========================>..] - ETA: 0s - loss: 0.3060 - accuracy: 0.8678\n",
            "Epoch 132: val_loss did not improve from 0.33898\n",
            "19/19 [==============================] - 1s 75ms/step - loss: 0.3072 - accuracy: 0.8673 - val_loss: 0.3473 - val_accuracy: 0.8603\n",
            "Epoch 133/150\n",
            "18/19 [===========================>..] - ETA: 0s - loss: 0.3157 - accuracy: 0.8624\n",
            "Epoch 133: val_loss did not improve from 0.33898\n",
            "19/19 [==============================] - 1s 72ms/step - loss: 0.3146 - accuracy: 0.8630 - val_loss: 0.3463 - val_accuracy: 0.8603\n",
            "Epoch 134/150\n",
            "18/19 [===========================>..] - ETA: 0s - loss: 0.3101 - accuracy: 0.8649\n",
            "Epoch 134: val_loss did not improve from 0.33898\n",
            "19/19 [==============================] - 1s 73ms/step - loss: 0.3100 - accuracy: 0.8652 - val_loss: 0.3401 - val_accuracy: 0.8560\n",
            "Epoch 135/150\n",
            "18/19 [===========================>..] - ETA: 0s - loss: 0.3160 - accuracy: 0.8623\n",
            "Epoch 135: val_loss did not improve from 0.33898\n",
            "19/19 [==============================] - 1s 73ms/step - loss: 0.3174 - accuracy: 0.8620 - val_loss: 0.3553 - val_accuracy: 0.8598\n",
            "Epoch 136/150\n",
            "18/19 [===========================>..] - ETA: 0s - loss: 0.3063 - accuracy: 0.8688\n",
            "Epoch 136: val_loss did not improve from 0.33898\n",
            "19/19 [==============================] - 1s 74ms/step - loss: 0.3075 - accuracy: 0.8682 - val_loss: 0.3397 - val_accuracy: 0.8590\n",
            "Epoch 137/150\n",
            "18/19 [===========================>..] - ETA: 0s - loss: 0.3095 - accuracy: 0.8609\n",
            "Epoch 137: val_loss did not improve from 0.33898\n",
            "19/19 [==============================] - 1s 74ms/step - loss: 0.3102 - accuracy: 0.8602 - val_loss: 0.3480 - val_accuracy: 0.8590\n",
            "Epoch 138/150\n",
            "18/19 [===========================>..] - ETA: 0s - loss: 0.3098 - accuracy: 0.8622\n",
            "Epoch 138: val_loss did not improve from 0.33898\n",
            "19/19 [==============================] - 1s 74ms/step - loss: 0.3115 - accuracy: 0.8615 - val_loss: 0.3521 - val_accuracy: 0.8556\n",
            "Epoch 139/150\n",
            "18/19 [===========================>..] - ETA: 0s - loss: 0.3077 - accuracy: 0.8698\n",
            "Epoch 139: val_loss did not improve from 0.33898\n",
            "19/19 [==============================] - 1s 75ms/step - loss: 0.3068 - accuracy: 0.8702 - val_loss: 0.3473 - val_accuracy: 0.8577\n",
            "Epoch 140/150\n",
            "18/19 [===========================>..] - ETA: 0s - loss: 0.3159 - accuracy: 0.8602\n",
            "Epoch 140: val_loss did not improve from 0.33898\n",
            "19/19 [==============================] - 1s 74ms/step - loss: 0.3159 - accuracy: 0.8605 - val_loss: 0.3519 - val_accuracy: 0.8526\n",
            "Epoch 141/150\n",
            "18/19 [===========================>..] - ETA: 0s - loss: 0.3108 - accuracy: 0.8647\n",
            "Epoch 141: val_loss did not improve from 0.33898\n",
            "19/19 [==============================] - 1s 75ms/step - loss: 0.3121 - accuracy: 0.8641 - val_loss: 0.3483 - val_accuracy: 0.8573\n",
            "Epoch 142/150\n",
            "18/19 [===========================>..] - ETA: 0s - loss: 0.3072 - accuracy: 0.8633\n",
            "Epoch 142: val_loss did not improve from 0.33898\n",
            "19/19 [==============================] - 1s 73ms/step - loss: 0.3067 - accuracy: 0.8635 - val_loss: 0.3419 - val_accuracy: 0.8594\n",
            "Epoch 143/150\n",
            "18/19 [===========================>..] - ETA: 0s - loss: 0.3051 - accuracy: 0.8652\n",
            "Epoch 143: val_loss improved from 0.33898 to 0.33660, saving model to ./_best_weights.h5\n",
            "19/19 [==============================] - 1s 74ms/step - loss: 0.3053 - accuracy: 0.8650 - val_loss: 0.3366 - val_accuracy: 0.8615\n",
            "Epoch 144/150\n",
            "18/19 [===========================>..] - ETA: 0s - loss: 0.3112 - accuracy: 0.8641\n",
            "Epoch 144: val_loss did not improve from 0.33660\n",
            "19/19 [==============================] - 1s 75ms/step - loss: 0.3110 - accuracy: 0.8643 - val_loss: 0.3421 - val_accuracy: 0.8598\n",
            "Epoch 145/150\n",
            "18/19 [===========================>..] - ETA: 0s - loss: 0.3117 - accuracy: 0.8637\n",
            "Epoch 145: val_loss did not improve from 0.33660\n",
            "19/19 [==============================] - 1s 74ms/step - loss: 0.3124 - accuracy: 0.8637 - val_loss: 0.3436 - val_accuracy: 0.8560\n",
            "Epoch 146/150\n",
            "18/19 [===========================>..] - ETA: 0s - loss: 0.3157 - accuracy: 0.8617\n",
            "Epoch 146: val_loss did not improve from 0.33660\n",
            "19/19 [==============================] - 1s 75ms/step - loss: 0.3152 - accuracy: 0.8617 - val_loss: 0.3718 - val_accuracy: 0.8496\n",
            "Epoch 147/150\n",
            "18/19 [===========================>..] - ETA: 0s - loss: 0.3111 - accuracy: 0.8618\n",
            "Epoch 147: val_loss did not improve from 0.33660\n",
            "19/19 [==============================] - 1s 74ms/step - loss: 0.3109 - accuracy: 0.8618 - val_loss: 0.3416 - val_accuracy: 0.8568\n",
            "Epoch 148/150\n",
            "18/19 [===========================>..] - ETA: 0s - loss: 0.3045 - accuracy: 0.8662\n",
            "Epoch 148: val_loss did not improve from 0.33660\n",
            "19/19 [==============================] - 1s 73ms/step - loss: 0.3053 - accuracy: 0.8666 - val_loss: 0.3476 - val_accuracy: 0.8577\n",
            "Epoch 149/150\n",
            "18/19 [===========================>..] - ETA: 0s - loss: 0.3014 - accuracy: 0.8664\n",
            "Epoch 149: val_loss did not improve from 0.33660\n",
            "19/19 [==============================] - 1s 74ms/step - loss: 0.3013 - accuracy: 0.8665 - val_loss: 0.3507 - val_accuracy: 0.8615\n",
            "Epoch 150/150\n",
            "18/19 [===========================>..] - ETA: 0s - loss: 0.3036 - accuracy: 0.8645\n",
            "Epoch 150: val_loss did not improve from 0.33660\n",
            "19/19 [==============================] - 1s 74ms/step - loss: 0.3025 - accuracy: 0.8647 - val_loss: 0.3432 - val_accuracy: 0.8598\n"
          ]
        }
      ]
    },
    {
      "cell_type": "code",
      "source": [
        "score = model.evaluate(x_test_new, Y_test_new, verbose=1)\n",
        "print('Test loss:', score[0])\n",
        "print('Test accuracy:', score[1])"
      ],
      "metadata": {
        "colab": {
          "base_uri": "https://localhost:8080/"
        },
        "id": "tr6EC24EpyE_",
        "outputId": "ab3a4091-0a5d-46bb-fda9-0078fe299f0e"
      },
      "execution_count": 66,
      "outputs": [
        {
          "output_type": "stream",
          "name": "stdout",
          "text": [
            "65/65 [==============================] - 0s 4ms/step - loss: 0.3308 - accuracy: 0.8605\n",
            "Test loss: 0.3307717740535736\n",
            "Test accuracy: 0.8605327010154724\n"
          ]
        }
      ]
    },
    {
      "cell_type": "code",
      "source": [
        "import matplotlib.pyplot as plt # shorcut for a plot function\n",
        "plt.plot(history.history['accuracy']) # training accuracy\n",
        "plt.plot(history.history['val_accuracy']) # validation accuracy\n",
        "plt.title('model accuracy')\n",
        "plt.ylabel('accuracy')\n",
        "plt.xlabel('epoch')\n",
        "plt.legend(['train', 'test'], loc='upper left')\n",
        "plt.show()"
      ],
      "metadata": {
        "colab": {
          "base_uri": "https://localhost:8080/",
          "height": 295
        },
        "id": "9SywH-93p0uP",
        "outputId": "9b601831-84ff-4855-cb97-36a2eb5d108b"
      },
      "execution_count": 61,
      "outputs": [
        {
          "output_type": "display_data",
          "data": {
            "text/plain": [
              "<Figure size 432x288 with 1 Axes>"
            ],
            "image/png": "[encoded data removed]"
          },
          "metadata": {
            "needs_background": "light"
          }
        }
      ]
    },
    {
      "cell_type": "code",
      "source": [
        "plt.plot(history.history['loss'])\n",
        "plt.plot(history.history['val_loss'])\n",
        "plt.title('model loss')\n",
        "plt.ylabel('loss')\n",
        "plt.xlabel('epoch')\n",
        "plt.legend(['train', 'test'], loc='upper left')\n",
        "plt.show()"
      ],
      "metadata": {
        "colab": {
          "base_uri": "https://localhost:8080/",
          "height": 295
        },
        "id": "ZRwv7MR7p4zS",
        "outputId": "d3fc4a44-b064-425d-c625-f55d816f2abe"
      },
      "execution_count": 62,
      "outputs": [
        {
          "output_type": "display_data",
          "data": {
            "text/plain": [
              "<Figure size 432x288 with 1 Axes>"
            ],
            "image/png": "[encoded data removed]"
          },
          "metadata": {
            "needs_background": "light"
          }
        }
      ]
    },
    {
      "cell_type": "code",
      "metadata": {
        "colab": {
          "base_uri": "https://localhost:8080/"
        },
        "id": "2hh3lutSZUWO",
        "outputId": "92a795b5-4c77-42cb-c72c-fea72824969a"
      },
      "source": [
        "predictions = model.predict(x_test_new, batch_size=32, verbose=2)\n",
        "print (\"predicted images size :\",predictions.shape)\n",
        "print(predictions)\n",
        "print(Y_test_new.shape)"
      ],
      "execution_count": 53,
      "outputs": [
        {
          "output_type": "stream",
          "name": "stdout",
          "text": [
            "65/65 - 1s - 993ms/epoch - 15ms/step\n",
            "predicted images size : (2065, 3)\n",
            "[[9.9983835e-01 1.6002438e-04 1.5376880e-06]\n",
            " [3.0815166e-01 6.9155723e-01 2.9110076e-04]\n",
            " [9.8948157e-01 1.0512369e-02 6.0564839e-06]\n",
            " ...\n",
            " [9.9927586e-01 5.8464694e-04 1.3944696e-04]\n",
            " [1.2234360e-03 9.9877661e-01 5.2752016e-09]\n",
            " [9.9982125e-01 1.6360865e-04 1.5109559e-05]]\n",
            "(2065, 3)\n"
          ]
        }
      ]
    },
    {
      "cell_type": "code",
      "source": [
        "from sklearn.metrics import confusion_matrix,accuracy_score, precision_score, recall_score\n",
        "threshold_confusion = 0.5\n",
        "print (\"\\nConfusion matrix:  Custom threshold (for positive) of \" +str(threshold_confusion))\n",
        "y_pred = np.empty((predictions.shape[0]))\n",
        "y_test = np.empty((predictions.shape[0]))\n",
        "for i in range(predictions.shape[0]):\n",
        "    \n",
        "    y_pred[i]=np.argmax(predictions[i])\n",
        "    y_test[i]=np.argmax(Y_test_new[i])\n",
        "#print(y_pred)\n",
        "    \n",
        "       \n",
        "confusion = confusion_matrix(y_test,  y_pred)\n",
        "print (confusion)"
      ],
      "metadata": {
        "colab": {
          "base_uri": "https://localhost:8080/"
        },
        "id": "QdqC-op4p8Ge",
        "outputId": "81cdd4ef-accf-44de-c64a-b9d4140fdf8b"
      },
      "execution_count": 38,
      "outputs": [
        {
          "output_type": "stream",
          "name": "stdout",
          "text": [
            "\n",
            "Confusion matrix:  Custom threshold (for positive) of 0.5\n",
            "[[782 197   1]\n",
            " [118 936   2]\n",
            " [  5   7  17]]\n"
          ]
        }
      ]
    },
    {
      "cell_type": "code",
      "source": [
        "print(\"The accuracy score on this random test-set is  :\", accuracy_score(y_test,  y_pred) )\n",
        "recall=recall_score(y_test,  y_pred, average=None)\n",
        "av_recall=sum(recall)/3\n",
        "print(\"recall\",recall, \"the avreage recall is \",av_recall)\n",
        "precision=precision_score(y_test,  y_pred,average=None)\n",
        "av_precision=sum(precision)/3\n",
        "\n",
        "print(\"precision\",precision,\"the avreage precision is \",av_precision)\n",
        "\n",
        "F1_score=(2*av_precision*av_recall)/(av_precision+av_recall)\n",
        "print(\"F1_score\",F1_score)"
      ],
      "metadata": {
        "colab": {
          "base_uri": "https://localhost:8080/"
        },
        "id": "ZSgAxV-2p8EI",
        "outputId": "0f772cd7-5744-45bb-eb4c-7ee2a1cc9f4f"
      },
      "execution_count": 63,
      "outputs": [
        {
          "output_type": "stream",
          "name": "stdout",
          "text": [
            "The accuracy score on this random test-set is  : 0.8401937046004843\n",
            "recall [0.79795918 0.88636364 0.5862069 ] the avreage recall is  0.7568432388629432\n",
            "precision [0.8640884  0.82105263 0.85      ] the avreage precision is  0.8450470097896675\n",
            "F1_score 0.7985167728171312\n"
          ]
        }
      ]
    },
    {
      "cell_type": "code",
      "source": [
        ""
      ],
      "metadata": {
        "id": "OebFtqSIp8BL"
      },
      "execution_count": null,
      "outputs": []
    },
    {
      "cell_type": "code",
      "source": [
        ""
      ],
      "metadata": {
        "id": "U1L7P0uAp7-f"
      },
      "execution_count": null,
      "outputs": []
    },
    {
      "cell_type": "code",
      "source": [
        ""
      ],
      "metadata": {
        "id": "gVERnlInp75A"
      },
      "execution_count": null,
      "outputs": []
    }
  ]
}